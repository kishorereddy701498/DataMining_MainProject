{
  "cells": [
    {
      "cell_type": "code",
      "execution_count": null,
      "metadata": {
        "id": "8LXwWL65iR-a"
      },
      "outputs": [],
      "source": [
        "import matplotlib.pyplot as plt\n",
        "import numpy as np\n",
        "import os\n",
        "import PIL\n",
        "import tensorflow as tf\n",
        "\n",
        "from tensorflow import keras\n",
        "from tensorflow.keras import layers\n",
        "from tensorflow.keras.models import Sequential"
      ]
    },
    {
      "cell_type": "markdown",
      "metadata": {
        "id": "paOxmRUC4vxF"
      },
      "source": [
        ""
      ]
    },
    {
      "cell_type": "markdown",
      "source": [
        "## Resizing image to 180*180 pixels, 32 Images for the batch"
      ],
      "metadata": {
        "id": "JMWbFcSwuQpK"
      }
    },
    {
      "cell_type": "code",
      "execution_count": null,
      "metadata": {
        "id": "YemYNwkrjAhz"
      },
      "outputs": [],
      "source": [
        "batch_size = 32\n",
        "img_height = 180\n",
        "img_width = 180\n",
        "\n",
        "data_dir = 'drive/MyDrive/dataset'"
      ]
    },
    {
      "cell_type": "markdown",
      "source": [
        "Making the train validation split of 80 and 20 percentage"
      ],
      "metadata": {
        "id": "WpgjEjKmuc8N"
      }
    },
    {
      "cell_type": "markdown",
      "source": [
        "Train Split"
      ],
      "metadata": {
        "id": "l3ZAbcfSuj0B"
      }
    },
    {
      "cell_type": "code",
      "execution_count": null,
      "metadata": {
        "colab": {
          "base_uri": "https://localhost:8080/"
        },
        "id": "rugvBWdkjE9G",
        "outputId": "b0ad7fb7-34a9-4a7c-ef95-5dd533e4e0e6"
      },
      "outputs": [
        {
          "output_type": "stream",
          "name": "stdout",
          "text": [
            "Found 1125 files belonging to 4 classes.\n",
            "Using 900 files for training.\n"
          ]
        }
      ],
      "source": [
        "train_ds = tf.keras.utils.image_dataset_from_directory(\n",
        "  data_dir,\n",
        "  validation_split=0.2,\n",
        "  subset=\"training\",\n",
        "  seed=123,\n",
        "  image_size=(img_height, img_width),\n",
        "  batch_size=batch_size)"
      ]
    },
    {
      "cell_type": "markdown",
      "source": [
        "Validation Split"
      ],
      "metadata": {
        "id": "4t9TY8mvulXb"
      }
    },
    {
      "cell_type": "code",
      "execution_count": null,
      "metadata": {
        "colab": {
          "base_uri": "https://localhost:8080/"
        },
        "id": "16sxnnO7jLjR",
        "outputId": "41ed184c-d146-4ca2-f761-57fc238bc196"
      },
      "outputs": [
        {
          "output_type": "stream",
          "name": "stdout",
          "text": [
            "Found 1125 files belonging to 4 classes.\n",
            "Using 225 files for validation.\n"
          ]
        }
      ],
      "source": [
        "val_ds = tf.keras.utils.image_dataset_from_directory(\n",
        "  data_dir,\n",
        "  validation_split=0.2,\n",
        "  subset=\"validation\",\n",
        "  seed=123,\n",
        "  image_size=(img_height, img_width),\n",
        "  batch_size=batch_size)"
      ]
    },
    {
      "cell_type": "markdown",
      "source": [
        "Here are all the classes"
      ],
      "metadata": {
        "id": "vTtwXuKeum-m"
      }
    },
    {
      "cell_type": "code",
      "execution_count": null,
      "metadata": {
        "colab": {
          "base_uri": "https://localhost:8080/"
        },
        "id": "9sPfsyP7jd_o",
        "outputId": "2732626b-a49f-49ad-ad10-973282b7fc0b"
      },
      "outputs": [
        {
          "output_type": "stream",
          "name": "stdout",
          "text": [
            "['cloudy', 'rain', 'shine', 'sunrise']\n"
          ]
        }
      ],
      "source": [
        "class_names = train_ds.class_names\n",
        "print(class_names)"
      ]
    },
    {
      "cell_type": "markdown",
      "source": [
        "Normalizing the data by 255 pixels"
      ],
      "metadata": {
        "id": "TBtzKSBbur8p"
      }
    },
    {
      "cell_type": "code",
      "execution_count": null,
      "metadata": {
        "id": "ocnOS9nkjqdK"
      },
      "outputs": [],
      "source": [
        "normalization_layer = layers.Rescaling(1./255)"
      ]
    },
    {
      "cell_type": "markdown",
      "source": [
        "Here the images values are from 0 to 1"
      ],
      "metadata": {
        "id": "iLy2cjlTu7y5"
      }
    },
    {
      "cell_type": "code",
      "execution_count": null,
      "metadata": {
        "colab": {
          "base_uri": "https://localhost:8080/"
        },
        "id": "RDynpn2KlfQi",
        "outputId": "30613c17-f171-4747-894a-085ae7b1594f"
      },
      "outputs": [
        {
          "name": "stdout",
          "output_type": "stream",
          "text": [
            "0.5058824 1.0\n"
          ]
        }
      ],
      "source": [
        "normalized_ds = train_ds.map(lambda x, y: (normalization_layer(x), y))\n",
        "image_batch, labels_batch = next(iter(normalized_ds))\n",
        "first_image = image_batch[0]\n",
        "print(np.min(first_image), np.max(first_image))"
      ]
    },
    {
      "cell_type": "markdown",
      "source": [
        "Class Names"
      ],
      "metadata": {
        "id": "smF6U3LVvJst"
      }
    },
    {
      "cell_type": "markdown",
      "source": [
        ""
      ],
      "metadata": {
        "id": "GfjIEys7vJnO"
      }
    },
    {
      "cell_type": "code",
      "execution_count": null,
      "metadata": {
        "colab": {
          "base_uri": "https://localhost:8080/"
        },
        "id": "fHIOMdAapEzv",
        "outputId": "cd8d7205-4cc0-4e31-9b2b-fa89583d865a"
      },
      "outputs": [
        {
          "data": {
            "text/plain": [
              "['cloudy', 'rain', 'shine', 'sunrise']"
            ]
          },
          "execution_count": 9,
          "metadata": {},
          "output_type": "execute_result"
        }
      ],
      "source": [
        "class_names"
      ]
    },
    {
      "cell_type": "markdown",
      "source": [
        "First Model: Convolutional Model with Three layers, 16->32->64 filters"
      ],
      "metadata": {
        "id": "egRhALvvvLlL"
      }
    },
    {
      "cell_type": "code",
      "execution_count": null,
      "metadata": {
        "id": "AY7_-RSCkGG-"
      },
      "outputs": [],
      "source": [
        "num_classes = len(class_names)\n",
        "\n",
        "model = Sequential([\n",
        "  layers.Rescaling(1./255, input_shape=(img_height, img_width, 3)),\n",
        "  layers.Conv2D(16, 3, padding='same', activation='relu'),\n",
        "  layers.MaxPooling2D(),\n",
        "  layers.Conv2D(32, 3, padding='same', activation='relu'),\n",
        "  layers.MaxPooling2D(),\n",
        "  layers.Conv2D(64, 3, padding='same', activation='relu'),\n",
        "  layers.MaxPooling2D(),\n",
        "  layers.Flatten(),\n",
        "  layers.Dense(128, activation='relu'),\n",
        "  layers.Dense(num_classes)\n",
        "])"
      ]
    },
    {
      "cell_type": "code",
      "execution_count": null,
      "metadata": {
        "id": "AFgELFRvkJzu"
      },
      "outputs": [],
      "source": [
        "model.compile(optimizer='adam',\n",
        "              loss=tf.keras.losses.SparseCategoricalCrossentropy(from_logits=True),\n",
        "              metrics=['accuracy'])"
      ]
    },
    {
      "cell_type": "code",
      "execution_count": null,
      "metadata": {
        "colab": {
          "base_uri": "https://localhost:8080/"
        },
        "id": "cQT6sx_wkMMV",
        "outputId": "9bab8d4f-aa5b-415d-bf35-ba469447071b"
      },
      "outputs": [
        {
          "output_type": "stream",
          "name": "stdout",
          "text": [
            "Model: \"sequential_4\"\n",
            "_________________________________________________________________\n",
            " Layer (type)                Output Shape              Param #   \n",
            "=================================================================\n",
            " rescaling_6 (Rescaling)     (None, 180, 180, 3)       0         \n",
            "                                                                 \n",
            " conv2d_13 (Conv2D)          (None, 180, 180, 16)      448       \n",
            "                                                                 \n",
            " max_pooling2d_13 (MaxPoolin  (None, 90, 90, 16)       0         \n",
            " g2D)                                                            \n",
            "                                                                 \n",
            " conv2d_14 (Conv2D)          (None, 90, 90, 32)        4640      \n",
            "                                                                 \n",
            " max_pooling2d_14 (MaxPoolin  (None, 45, 45, 32)       0         \n",
            " g2D)                                                            \n",
            "                                                                 \n",
            " conv2d_15 (Conv2D)          (None, 45, 45, 64)        18496     \n",
            "                                                                 \n",
            " max_pooling2d_15 (MaxPoolin  (None, 22, 22, 64)       0         \n",
            " g2D)                                                            \n",
            "                                                                 \n",
            " flatten_4 (Flatten)         (None, 30976)             0         \n",
            "                                                                 \n",
            " dense_8 (Dense)             (None, 128)               3965056   \n",
            "                                                                 \n",
            " dense_9 (Dense)             (None, 4)                 516       \n",
            "                                                                 \n",
            "=================================================================\n",
            "Total params: 3,989,156\n",
            "Trainable params: 3,989,156\n",
            "Non-trainable params: 0\n",
            "_________________________________________________________________\n"
          ]
        }
      ],
      "source": [
        "model.summary()"
      ]
    },
    {
      "cell_type": "code",
      "execution_count": null,
      "metadata": {
        "colab": {
          "base_uri": "https://localhost:8080/"
        },
        "id": "tE8H9SKTkPHM",
        "outputId": "2fcf958f-37b2-491e-e083-15d713b07922"
      },
      "outputs": [
        {
          "output_type": "stream",
          "name": "stdout",
          "text": [
            "Epoch 1/10\n",
            "29/29 [==============================] - 7s 174ms/step - loss: 1.0232 - accuracy: 0.5856 - val_loss: 0.5941 - val_accuracy: 0.7867\n",
            "Epoch 2/10\n",
            "29/29 [==============================] - 6s 167ms/step - loss: 0.5591 - accuracy: 0.7967 - val_loss: 0.7451 - val_accuracy: 0.7200\n",
            "Epoch 3/10\n",
            "29/29 [==============================] - 6s 166ms/step - loss: 0.3743 - accuracy: 0.8700 - val_loss: 0.4052 - val_accuracy: 0.8489\n",
            "Epoch 4/10\n",
            "29/29 [==============================] - 6s 167ms/step - loss: 0.2799 - accuracy: 0.8978 - val_loss: 0.3347 - val_accuracy: 0.8933\n",
            "Epoch 5/10\n",
            "29/29 [==============================] - 6s 163ms/step - loss: 0.2422 - accuracy: 0.9167 - val_loss: 0.3119 - val_accuracy: 0.9156\n",
            "Epoch 6/10\n",
            "29/29 [==============================] - 6s 166ms/step - loss: 0.1601 - accuracy: 0.9500 - val_loss: 0.5604 - val_accuracy: 0.8000\n",
            "Epoch 7/10\n",
            "29/29 [==============================] - 6s 163ms/step - loss: 0.1492 - accuracy: 0.9578 - val_loss: 0.3102 - val_accuracy: 0.9156\n",
            "Epoch 8/10\n",
            "29/29 [==============================] - 6s 170ms/step - loss: 0.1405 - accuracy: 0.9456 - val_loss: 0.2815 - val_accuracy: 0.8889\n",
            "Epoch 9/10\n",
            "29/29 [==============================] - 6s 160ms/step - loss: 0.0747 - accuracy: 0.9756 - val_loss: 0.2913 - val_accuracy: 0.9067\n",
            "Epoch 10/10\n",
            "29/29 [==============================] - 6s 166ms/step - loss: 0.0548 - accuracy: 0.9778 - val_loss: 0.4050 - val_accuracy: 0.8978\n"
          ]
        }
      ],
      "source": [
        "epochs=10\n",
        "history = model.fit(\n",
        "  train_ds,\n",
        "  validation_data=val_ds,\n",
        "  epochs=epochs\n",
        ")"
      ]
    },
    {
      "cell_type": "code",
      "source": [
        "print('Accuracy:', model.evaluate_generator(val_ds)[1]*100)"
      ],
      "metadata": {
        "colab": {
          "base_uri": "https://localhost:8080/"
        },
        "id": "EqfuuUzqsbqU",
        "outputId": "732cad6a-2a85-40a7-d88e-6caf4473bfee"
      },
      "execution_count": null,
      "outputs": [
        {
          "output_type": "stream",
          "name": "stderr",
          "text": [
            "/usr/local/lib/python3.7/dist-packages/ipykernel_launcher.py:1: UserWarning: `Model.evaluate_generator` is deprecated and will be removed in a future version. Please use `Model.evaluate`, which supports generators.\n",
            "  \"\"\"Entry point for launching an IPython kernel.\n"
          ]
        },
        {
          "output_type": "stream",
          "name": "stdout",
          "text": [
            "Accuracy: 89.7777795791626\n"
          ]
        }
      ]
    },
    {
      "cell_type": "code",
      "source": [
        "model.evaluate_generator(train_ds)"
      ],
      "metadata": {
        "colab": {
          "base_uri": "https://localhost:8080/"
        },
        "id": "bcC81BlVwIS5",
        "outputId": "67d14739-1b8b-47d1-adb4-374069446982"
      },
      "execution_count": null,
      "outputs": [
        {
          "output_type": "stream",
          "name": "stderr",
          "text": [
            "/usr/local/lib/python3.7/dist-packages/ipykernel_launcher.py:1: UserWarning: `Model.evaluate_generator` is deprecated and will be removed in a future version. Please use `Model.evaluate`, which supports generators.\n",
            "  \"\"\"Entry point for launching an IPython kernel.\n"
          ]
        },
        {
          "output_type": "execute_result",
          "data": {
            "text/plain": [
              "[0.10404247790575027, 0.9588888883590698]"
            ]
          },
          "metadata": {},
          "execution_count": 62
        }
      ]
    },
    {
      "cell_type": "code",
      "execution_count": null,
      "metadata": {
        "colab": {
          "base_uri": "https://localhost:8080/",
          "height": 499
        },
        "id": "3jNlGd7DkUN0",
        "outputId": "3a7edce9-7386-498c-cd8c-304bd7ff1e10"
      },
      "outputs": [
        {
          "output_type": "display_data",
          "data": {
            "image/png": "[encoded data removed]",
            "text/plain": [
              "<Figure size 576x576 with 2 Axes>"
            ]
          },
          "metadata": {
            "needs_background": "light"
          }
        }
      ],
      "source": [
        "acc = history.history['accuracy']\n",
        "val_acc = history.history['val_accuracy']\n",
        "\n",
        "loss = history.history['loss']\n",
        "val_loss = history.history['val_loss']\n",
        "\n",
        "epochs_range = range(epochs)\n",
        "\n",
        "plt.figure(figsize=(8, 8))\n",
        "plt.subplot(1, 2, 1)\n",
        "plt.plot(epochs_range, acc, label='Training Accuracy')\n",
        "plt.plot(epochs_range, val_acc, label='Validation Accuracy')\n",
        "plt.legend(loc='lower right')\n",
        "plt.title('Training and Validation Accuracy')\n",
        "\n",
        "plt.subplot(1, 2, 2)\n",
        "plt.plot(epochs_range, loss, label='Training Loss')\n",
        "plt.plot(epochs_range, val_loss, label='Validation Loss')\n",
        "plt.legend(loc='upper right')\n",
        "plt.title('Training and Validation Loss')\n",
        "plt.show()"
      ]
    },
    {
      "cell_type": "markdown",
      "source": [
        "# With Drop out layer\n"
      ],
      "metadata": {
        "id": "7ByMo8BrsnRJ"
      }
    },
    {
      "cell_type": "code",
      "execution_count": null,
      "metadata": {
        "colab": {
          "base_uri": "https://localhost:8080/",
          "height": 1000
        },
        "id": "dwJ9pw-Vo4Wu",
        "outputId": "25a1faea-1a92-4cf3-84b4-de24da9015c5"
      },
      "outputs": [
        {
          "output_type": "stream",
          "name": "stdout",
          "text": [
            "Model: \"sequential_5\"\n",
            "_________________________________________________________________\n",
            " Layer (type)                Output Shape              Param #   \n",
            "=================================================================\n",
            " rescaling_7 (Rescaling)     (None, 180, 180, 3)       0         \n",
            "                                                                 \n",
            " conv2d_16 (Conv2D)          (None, 180, 180, 16)      448       \n",
            "                                                                 \n",
            " max_pooling2d_16 (MaxPoolin  (None, 90, 90, 16)       0         \n",
            " g2D)                                                            \n",
            "                                                                 \n",
            " dropout_6 (Dropout)         (None, 90, 90, 16)        0         \n",
            "                                                                 \n",
            " conv2d_17 (Conv2D)          (None, 90, 90, 32)        4640      \n",
            "                                                                 \n",
            " max_pooling2d_17 (MaxPoolin  (None, 45, 45, 32)       0         \n",
            " g2D)                                                            \n",
            "                                                                 \n",
            " dropout_7 (Dropout)         (None, 45, 45, 32)        0         \n",
            "                                                                 \n",
            " conv2d_18 (Conv2D)          (None, 45, 45, 64)        18496     \n",
            "                                                                 \n",
            " max_pooling2d_18 (MaxPoolin  (None, 22, 22, 64)       0         \n",
            " g2D)                                                            \n",
            "                                                                 \n",
            " dropout_8 (Dropout)         (None, 22, 22, 64)        0         \n",
            "                                                                 \n",
            " flatten_5 (Flatten)         (None, 30976)             0         \n",
            "                                                                 \n",
            " dense_10 (Dense)            (None, 128)               3965056   \n",
            "                                                                 \n",
            " dense_11 (Dense)            (None, 4)                 516       \n",
            "                                                                 \n",
            "=================================================================\n",
            "Total params: 3,989,156\n",
            "Trainable params: 3,989,156\n",
            "Non-trainable params: 0\n",
            "_________________________________________________________________\n",
            "Epoch 1/10\n",
            "29/29 [==============================] - 7s 175ms/step - loss: 1.4082 - accuracy: 0.4600 - val_loss: 0.8595 - val_accuracy: 0.6356\n",
            "Epoch 2/10\n",
            "29/29 [==============================] - 6s 167ms/step - loss: 0.6220 - accuracy: 0.7611 - val_loss: 0.6769 - val_accuracy: 0.6756\n",
            "Epoch 3/10\n",
            "29/29 [==============================] - 6s 165ms/step - loss: 0.5001 - accuracy: 0.8211 - val_loss: 0.5388 - val_accuracy: 0.7867\n",
            "Epoch 4/10\n",
            "29/29 [==============================] - 6s 169ms/step - loss: 0.4218 - accuracy: 0.8389 - val_loss: 0.6081 - val_accuracy: 0.7511\n",
            "Epoch 5/10\n",
            "29/29 [==============================] - 6s 167ms/step - loss: 0.3071 - accuracy: 0.8911 - val_loss: 0.4503 - val_accuracy: 0.8089\n",
            "Epoch 6/10\n",
            "29/29 [==============================] - 6s 166ms/step - loss: 0.2895 - accuracy: 0.8867 - val_loss: 0.4649 - val_accuracy: 0.8222\n",
            "Epoch 7/10\n",
            "29/29 [==============================] - 6s 165ms/step - loss: 0.2200 - accuracy: 0.9311 - val_loss: 0.3742 - val_accuracy: 0.8622\n",
            "Epoch 8/10\n",
            "29/29 [==============================] - 6s 168ms/step - loss: 0.2022 - accuracy: 0.9233 - val_loss: 0.3223 - val_accuracy: 0.8933\n",
            "Epoch 9/10\n",
            "29/29 [==============================] - 6s 169ms/step - loss: 0.1637 - accuracy: 0.9400 - val_loss: 0.3507 - val_accuracy: 0.8889\n",
            "Epoch 10/10\n",
            "29/29 [==============================] - 6s 164ms/step - loss: 0.1328 - accuracy: 0.9489 - val_loss: 0.3546 - val_accuracy: 0.8667\n"
          ]
        },
        {
          "output_type": "display_data",
          "data": {
            "image/png": "[encoded data removed]",
            "text/plain": [
              "<Figure size 576x576 with 2 Axes>"
            ]
          },
          "metadata": {
            "needs_background": "light"
          }
        }
      ],
      "source": [
        "num_classes = len(class_names)\n",
        "\n",
        "model = Sequential([\n",
        "  layers.Rescaling(1./255, input_shape=(img_height, img_width, 3)),\n",
        "  layers.Conv2D(16, 3, padding='same', activation='relu'),\n",
        "  layers.MaxPooling2D(),\n",
        "  layers.Dropout(0.1),\n",
        "  layers.Conv2D(32, 3, padding='same', activation='relu'),\n",
        "  layers.MaxPooling2D(),\n",
        "  layers.Dropout(0.2),\n",
        "  layers.Conv2D(64, 3, padding='same', activation='relu'),\n",
        "  layers.MaxPooling2D(),\n",
        "  layers.Dropout(0.2),\n",
        "  layers.Flatten(),\n",
        "  layers.Dense(128, activation='relu'),\n",
        "  layers.Dense(num_classes)\n",
        "])\n",
        "\n",
        "model.compile(optimizer='adam',\n",
        "              loss=tf.keras.losses.SparseCategoricalCrossentropy(from_logits=True),\n",
        "              metrics=['accuracy'])\n",
        "\n",
        "model.summary()\n",
        "epochs=10\n",
        "history = model.fit(\n",
        "  train_ds,\n",
        "  validation_data=val_ds,\n",
        "  epochs=epochs\n",
        ")\n",
        "\n",
        "acc = history.history['accuracy']\n",
        "val_acc = history.history['val_accuracy']\n",
        "\n",
        "loss = history.history['loss']\n",
        "val_loss = history.history['val_loss']\n",
        "\n",
        "epochs_range = range(epochs)\n",
        "\n",
        "plt.figure(figsize=(8, 8))\n",
        "plt.subplot(1, 2, 1)\n",
        "plt.plot(epochs_range, acc, label='Training Accuracy')\n",
        "plt.plot(epochs_range, val_acc, label='Validation Accuracy')\n",
        "plt.legend(loc='lower right')\n",
        "plt.title('Training and Validation Accuracy')\n",
        "\n",
        "plt.subplot(1, 2, 2)\n",
        "plt.plot(epochs_range, loss, label='Training Loss')\n",
        "plt.plot(epochs_range, val_loss, label='Validation Loss')\n",
        "plt.legend(loc='upper right')\n",
        "plt.title('Training and Validation Loss')\n",
        "plt.show()\n"
      ]
    },
    {
      "cell_type": "code",
      "execution_count": null,
      "metadata": {
        "id": "qk5zRF2lNDgq",
        "colab": {
          "base_uri": "https://localhost:8080/"
        },
        "outputId": "ab55c5a3-38a3-41af-abc6-80e5007821a0"
      },
      "outputs": [
        {
          "output_type": "stream",
          "name": "stderr",
          "text": [
            "/usr/local/lib/python3.7/dist-packages/ipykernel_launcher.py:1: UserWarning: `Model.evaluate_generator` is deprecated and will be removed in a future version. Please use `Model.evaluate`, which supports generators.\n",
            "  \"\"\"Entry point for launching an IPython kernel.\n"
          ]
        },
        {
          "output_type": "stream",
          "name": "stdout",
          "text": [
            "Accuracy: 86.66666746139526\n"
          ]
        }
      ],
      "source": [
        "print('Accuracy:', model.evaluate_generator(val_ds)[1]*100)"
      ]
    },
    {
      "cell_type": "code",
      "execution_count": null,
      "metadata": {
        "id": "GymcaxhkIPPV",
        "colab": {
          "base_uri": "https://localhost:8080/"
        },
        "outputId": "caadc329-ad1c-4a87-9d27-da2bb98bd7bb"
      },
      "outputs": [
        {
          "output_type": "stream",
          "name": "stderr",
          "text": [
            "/usr/local/lib/python3.7/dist-packages/ipykernel_launcher.py:1: UserWarning: `Model.evaluate_generator` is deprecated and will be removed in a future version. Please use `Model.evaluate`, which supports generators.\n",
            "  \"\"\"Entry point for launching an IPython kernel.\n"
          ]
        },
        {
          "output_type": "execute_result",
          "data": {
            "text/plain": [
              "[0.14904910326004028, 0.9588888883590698]"
            ]
          },
          "metadata": {},
          "execution_count": 67
        }
      ],
      "source": [
        "model.evaluate_generator(train_ds)"
      ]
    },
    {
      "cell_type": "code",
      "source": [
        ""
      ],
      "metadata": {
        "id": "dv6zeU1hxGRM"
      },
      "execution_count": null,
      "outputs": []
    }
  ],
  "metadata": {
    "accelerator": "GPU",
    "colab": {
      "collapsed_sections": [],
      "name": "term project.ipynb",
      "toc_visible": true,
      "provenance": []
    },
    "kernelspec": {
      "display_name": "Python 3",
      "name": "python3"
    },
    "language_info": {
      "name": "python"
    }
  },
  "nbformat": 4,
  "nbformat_minor": 0
}